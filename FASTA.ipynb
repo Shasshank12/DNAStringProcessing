{
 "cells": [
  {
   "cell_type": "markdown",
   "metadata": {
    "id": "OzhZ8dO_CsfA"
   },
   "source": [
    "# Imports"
   ]
  },
  {
   "cell_type": "code",
   "execution_count": 7,
   "metadata": {
    "id": "pIoe1LkzCque"
   },
   "outputs": [],
   "source": [
    "import random\n",
    "from itertools import permutations"
   ]
  },
  {
   "cell_type": "code",
   "execution_count": 8,
   "metadata": {
    "colab": {
     "base_uri": "https://localhost:8080/"
    },
    "id": "vu3P7S57tWkD",
    "outputId": "180abaa1-96e7-4aee-a884-5c49cc8a2271"
   },
   "outputs": [],
   "source": [
    "with open(\"/Users/shasshanksethuraman/Desktop/fasta.txt\") as f:\n",
    "  seq=f.readlines()"
   ]
  },
  {
   "cell_type": "markdown",
   "metadata": {
    "id": "IbMQtDR-B5qI"
   },
   "source": [
    "# Data Cleaning\n",
    "\n",
    "Removing unwanted characters,lines etc. from imported data\n",
    "\n",
    "Ignored the first line of the Fasta file by forlooping through the readlines list.\n",
    "\n",
    "Concatenated each line onto a new string."
   ]
  },
  {
   "cell_type": "code",
   "execution_count": 9,
   "metadata": {
    "colab": {
     "base_uri": "https://localhost:8080/"
    },
    "id": "qQ52huMg9bdw",
    "outputId": "e84b1253-404d-484c-cdae-347cbb2d3f8e"
   },
   "outputs": [],
   "source": [
    "n=len(seq)\n",
    "clean=''\n",
    "for i in range(1,n):\n",
    "    clean+=seq[i]\n"
   ]
  },
  {
   "cell_type": "markdown",
   "metadata": {
    "id": "T8hRpsfuEs5s"
   },
   "source": [
    "# Mini and Master String"
   ]
  },
  {
   "cell_type": "code",
   "execution_count": 10,
   "metadata": {
    "colab": {
     "base_uri": "https://localhost:8080/"
    },
    "id": "oN1UzS4IE0Nc",
    "outputId": "feaf4fd8-1a9e-41bb-a162-a42352c0cf34"
   },
   "outputs": [
    {
     "name": "stdout",
     "output_type": "stream",
     "text": [
      "Enter preffered length for Mini string : 5\n",
      "TAATA\n",
      "262072\n"
     ]
    }
   ],
   "source": [
    "string='ATGC'\n",
    "mainstr=clean\n",
    "ministr=''\n",
    "ministr_length=int(input('Enter preffered length for Mini string : '))\n",
    "\n",
    "for j in range(ministr_length):\n",
    "  ministr+=random.choice(string)\n",
    "print(ministr)\n",
    "\n",
    "print(len(mainstr))"
   ]
  },
  {
   "cell_type": "markdown",
   "metadata": {
    "id": "nryZbfSLxfPa"
   },
   "source": [
    "# Task 1"
   ]
  },
  {
   "cell_type": "code",
   "execution_count": 7,
   "metadata": {
    "id": "feYqHD4DXhoc"
   },
   "outputs": [],
   "source": [
    "\"\"\"\n",
    "To find number of direct matches of a randomly generated mini string in our master string i.e FASTA file\n",
    "@param r: Master string\n",
    "@param m: Randomly generated mini string of user defined length\n",
    "\"\"\"\n",
    "\n",
    "def directMatch(r, m): \n",
    "  d = 0\n",
    "  if m in r:\n",
    "    d+=r.count(m)\n",
    "  return d"
   ]
  },
  {
   "cell_type": "markdown",
   "metadata": {
    "id": "GGg1G2MyDYwo"
   },
   "source": [
    "Function calling"
   ]
  },
  {
   "cell_type": "code",
   "execution_count": null,
   "metadata": {
    "colab": {
     "base_uri": "https://localhost:8080/"
    },
    "id": "VmhhLXMFt0aw",
    "outputId": "62ad85d9-6a9f-4e08-8474-63a217923f23"
   },
   "outputs": [],
   "source": [
    "direct = directMatch(mainstr, ministr) # calling the function directMatch\n",
    "\n",
    "print(\"The Main String is : \\n\\n\"+mainstr)\n",
    "print(\"\\n\\nThe Mini String is : \\n\\n\"+ministr)\n",
    "print('\\n\\n'+\"*\"*10+ '\\nNumber of direct matches : ',direct)"
   ]
  },
  {
   "cell_type": "markdown",
   "metadata": {
    "id": "3ipobQm2nIGO"
   },
   "source": [
    "# Task 2"
   ]
  },
  {
   "cell_type": "code",
   "execution_count": 9,
   "metadata": {
    "id": "nDEAsUFAvxeD"
   },
   "outputs": [],
   "source": [
    "\"\"\"\n",
    "To find number of discontinued matches of the mini string in the master string\n",
    "A discontinued match is defined as matching of individual chracters of the mini string with that of the master string, \n",
    "not necessarily continuous.\n",
    "@param r: Master string\n",
    "@param m: Randomly generated mini string of user defined length\n",
    "\"\"\"\n",
    "\n",
    "\n",
    "def dis_match(r,m):\n",
    "  N=len(r)\n",
    "\n",
    "  x=0\n",
    "  count=0\n",
    "  currentIndex = x;\n",
    "  flag = True\n",
    "  while (len(r[currentIndex:N]) >= 1 and flag == True):\n",
    "    ticker=ministr_length #length of ministr\n",
    "    j=0\n",
    "    for i in range(ticker):\n",
    "      currentIndex += x # current index keeps track of the position\n",
    "      x=r[currentIndex:N].find(m[j])\n",
    "      if x == -1:\n",
    "        flag = False # when the next char is not present, we exit out of the while as well\n",
    "        break\n",
    "      else:\n",
    "        j+=1\n",
    "        count+=1\n",
    "  return int(count/len(m)) # mod of the number of char found "
   ]
  },
  {
   "cell_type": "markdown",
   "metadata": {
    "id": "f04gbFioFeqF"
   },
   "source": [
    "Function calling"
   ]
  },
  {
   "cell_type": "code",
   "execution_count": 10,
   "metadata": {
    "colab": {
     "base_uri": "https://localhost:8080/"
    },
    "id": "PxvQFZH2FgdN",
    "outputId": "fded2ba0-d2ce-4e38-9f02-f429c77f6771"
   },
   "outputs": [
    {
     "name": "stdout",
     "output_type": "stream",
     "text": [
      "Discontinued match of AGACT in the main string = 11331\n"
     ]
    }
   ],
   "source": [
    "ans=dis_match(mainstr,ministr)\n",
    "print('Discontinued match of '+ministr+' in the main string = '+str(ans))"
   ]
  },
  {
   "cell_type": "markdown",
   "metadata": {
    "id": "whFzh51ynM_R"
   },
   "source": [
    "# Task 3"
   ]
  },
  {
   "cell_type": "code",
   "execution_count": 11,
   "metadata": {
    "id": "8MaFv8jtts8J"
   },
   "outputs": [],
   "source": [
    "\"\"\"\n",
    "To find number of direct matches of all combinations of ministring\n",
    "@param r: Master string\n",
    "@param m: Randomly generated mini string of user defined length\n",
    "\"\"\"\n",
    "\n",
    "def combinations(r,m):\n",
    "  words = []\n",
    "  words = [''.join(p) for p in permutations(m)]\n",
    "  d={}\n",
    "\n",
    "  print(words)\n",
    "\n",
    "  for l in words:\n",
    "    if l in r:\n",
    "      n=r.count(l)\n",
    "      d[l]=n\n",
    "  print('\\nMatches with all combinations in the main string ')\n",
    "  for k,v in d.items():\n",
    "    print(k,'direct match : ',v)"
   ]
  },
  {
   "cell_type": "markdown",
   "metadata": {
    "id": "3buneCoOGWFQ"
   },
   "source": [
    "Function calling"
   ]
  },
  {
   "cell_type": "code",
   "execution_count": 12,
   "metadata": {
    "colab": {
     "base_uri": "https://localhost:8080/"
    },
    "id": "DzPj0KFaGXyQ",
    "outputId": "74fc6182-88d2-4cdc-8c62-562ed10d095b"
   },
   "outputs": [
    {
     "name": "stdout",
     "output_type": "stream",
     "text": [
      "['AGACT', 'AGATC', 'AGCAT', 'AGCTA', 'AGTAC', 'AGTCA', 'AAGCT', 'AAGTC', 'AACGT', 'AACTG', 'AATGC', 'AATCG', 'ACGAT', 'ACGTA', 'ACAGT', 'ACATG', 'ACTGA', 'ACTAG', 'ATGAC', 'ATGCA', 'ATAGC', 'ATACG', 'ATCGA', 'ATCAG', 'GAACT', 'GAATC', 'GACAT', 'GACTA', 'GATAC', 'GATCA', 'GAACT', 'GAATC', 'GACAT', 'GACTA', 'GATAC', 'GATCA', 'GCAAT', 'GCATA', 'GCAAT', 'GCATA', 'GCTAA', 'GCTAA', 'GTAAC', 'GTACA', 'GTAAC', 'GTACA', 'GTCAA', 'GTCAA', 'AAGCT', 'AAGTC', 'AACGT', 'AACTG', 'AATGC', 'AATCG', 'AGACT', 'AGATC', 'AGCAT', 'AGCTA', 'AGTAC', 'AGTCA', 'ACAGT', 'ACATG', 'ACGAT', 'ACGTA', 'ACTAG', 'ACTGA', 'ATAGC', 'ATACG', 'ATGAC', 'ATGCA', 'ATCAG', 'ATCGA', 'CAGAT', 'CAGTA', 'CAAGT', 'CAATG', 'CATGA', 'CATAG', 'CGAAT', 'CGATA', 'CGAAT', 'CGATA', 'CGTAA', 'CGTAA', 'CAAGT', 'CAATG', 'CAGAT', 'CAGTA', 'CATAG', 'CATGA', 'CTAGA', 'CTAAG', 'CTGAA', 'CTGAA', 'CTAAG', 'CTAGA', 'TAGAC', 'TAGCA', 'TAAGC', 'TAACG', 'TACGA', 'TACAG', 'TGAAC', 'TGACA', 'TGAAC', 'TGACA', 'TGCAA', 'TGCAA', 'TAAGC', 'TAACG', 'TAGAC', 'TAGCA', 'TACAG', 'TACGA', 'TCAGA', 'TCAAG', 'TCGAA', 'TCGAA', 'TCAAG', 'TCAGA']\n",
      "\n",
      "Matches with all combinations in the main string \n",
      "AGACT direct match :  75\n",
      "AGATC direct match :  221\n",
      "AGCAT direct match :  228\n",
      "AGCTA direct match :  76\n",
      "AGTAC direct match :  139\n",
      "AGTCA direct match :  118\n",
      "AAGCT direct match :  235\n",
      "AAGTC direct match :  176\n",
      "AACGT direct match :  177\n",
      "AACTG direct match :  327\n",
      "AATGC direct match :  192\n",
      "AATCG direct match :  186\n",
      "ACGAT direct match :  168\n",
      "ACGTA direct match :  89\n",
      "ACAGT direct match :  101\n",
      "ACATG direct match :  154\n",
      "ACTGA direct match :  162\n",
      "ACTAG direct match :  18\n",
      "ATGAC direct match :  224\n",
      "ATGCA direct match :  185\n",
      "ATAGC direct match :  89\n",
      "ATACG direct match :  95\n",
      "ATCGA direct match :  356\n",
      "ATCAG direct match :  339\n",
      "GAACT direct match :  227\n",
      "GAATC direct match :  120\n",
      "GACAT direct match :  155\n",
      "GACTA direct match :  87\n",
      "GATAC direct match :  112\n",
      "GATCA direct match :  510\n",
      "GCAAT direct match :  249\n",
      "GCATA direct match :  97\n",
      "GCTAA direct match :  67\n",
      "GTAAC direct match :  104\n",
      "GTACA direct match :  151\n",
      "GTCAA direct match :  204\n",
      "CAGAT direct match :  196\n",
      "CAGTA direct match :  124\n",
      "CAAGT direct match :  173\n",
      "CAATG direct match :  237\n",
      "CATGA direct match :  234\n",
      "CATAG direct match :  71\n",
      "CGAAT direct match :  174\n",
      "CGATA direct match :  183\n",
      "CGTAA direct match :  105\n",
      "CTAGA direct match :  23\n",
      "CTAAG direct match :  39\n",
      "CTGAA direct match :  271\n",
      "TAGAC direct match :  48\n",
      "TAGCA direct match :  32\n",
      "TAAGC direct match :  92\n",
      "TAACG direct match :  115\n",
      "TACGA direct match :  108\n",
      "TACAG direct match :  112\n",
      "TGAAC direct match :  252\n",
      "TGACA direct match :  115\n",
      "TGCAA direct match :  219\n",
      "TCAGA direct match :  95\n",
      "TCAAG direct match :  359\n",
      "TCGAA direct match :  289\n"
     ]
    }
   ],
   "source": [
    "combinations(mainstr,ministr)"
   ]
  },
  {
   "cell_type": "markdown",
   "metadata": {
    "id": "J7b6HDebxo0a"
   },
   "source": [
    "# Task 4"
   ]
  },
  {
   "cell_type": "code",
   "execution_count": 13,
   "metadata": {},
   "outputs": [
    {
     "name": "stdin",
     "output_type": "stream",
     "text": [
      "Enter Threshold value for character matching :  7\n"
     ]
    }
   ],
   "source": [
    "\"\"\"\n",
    "To find number of discontinued matches of the mini string in the master string\n",
    "A discontinued match is defined as matching of individual chracters of the mini string with that of the master string, \n",
    "not necessarily continuous, while staying within the user defined threshold limit.\n",
    "@param r: Master string\n",
    "@param m: Randomly generated mini string of user defined length\n",
    "\"\"\"\n",
    "\n",
    "threshold=int(input('Enter Threshold value for character matching : '))\n",
    "def thresh_match(r,m):\n",
    "    matches=0\n",
    "    N=len(r)\n",
    "    print(\"Length of master string: \" + str(N))\n",
    "    for i in range(N-threshold+1):\n",
    "      matches+=thresh(r[i:i+threshold])\n",
    "    return matches\n",
    "\"\"\"\n",
    "@param sub: Threshold value for character matching\n",
    "\"\"\"\n",
    "def thresh(sub):\n",
    "  N=len(sub)\n",
    "  x=0\n",
    "  count=0\n",
    "  currentIndex = x;\n",
    "  flag = True\n",
    "  while (len(sub[currentIndex:N]) >= 1):\n",
    "    ticker=ministr_length #length of ministr\n",
    "    j=0\n",
    "    for i in range(ticker):\n",
    "      currentIndex += x # current index keeps track of the position\n",
    "      x=sub[currentIndex:N].find(mainstr[j])\n",
    "      if x == -1:\n",
    "        currentIndex = N-1 # when the next char is not present, we exit out of the while as well\n",
    "        break\n",
    "      else:\n",
    "        j+=1\n",
    "        count+=1\n",
    "    break\n",
    "  final=int(count/len(ministr)) # mod of the number of char found\n",
    "  return final"
   ]
  },
  {
   "cell_type": "code",
   "execution_count": 14,
   "metadata": {
    "colab": {
     "base_uri": "https://localhost:8080/"
    },
    "id": "BbF4pyw_mdUe",
    "outputId": "32557c98-a0b0-4433-9bd4-a693c8740d05"
   },
   "outputs": [
    {
     "name": "stdout",
     "output_type": "stream",
     "text": [
      "Length of master string: 262072\n",
      "Discontinued matches with a threshold of 7 in the main string = 3687\n"
     ]
    }
   ],
   "source": [
    "final=thresh_match(mainstr,ministr)\n",
    "\n",
    "print('Discontinued matches with a threshold of '+str(threshold)+' in the main string = '+str(final))"
   ]
  },
  {
   "cell_type": "code",
   "execution_count": null,
   "metadata": {},
   "outputs": [],
   "source": []
  }
 ],
 "metadata": {
  "colab": {
   "collapsed_sections": [],
   "provenance": []
  },
  "kernelspec": {
   "display_name": "Python 3",
   "language": "python",
   "name": "python3"
  },
  "language_info": {
   "codemirror_mode": {
    "name": "ipython",
    "version": 3
   },
   "file_extension": ".py",
   "mimetype": "text/x-python",
   "name": "python",
   "nbconvert_exporter": "python",
   "pygments_lexer": "ipython3",
   "version": "3.8.8"
  }
 },
 "nbformat": 4,
 "nbformat_minor": 4
}
