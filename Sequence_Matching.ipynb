{
 "cells": [
  {
   "cell_type": "markdown",
   "metadata": {
    "id": "qUw3E0dGHnld"
   },
   "source": [
    "# FAST Q STRING MATCHING"
   ]
  },
  {
   "cell_type": "code",
   "execution_count": 23,
   "metadata": {
    "colab": {
     "base_uri": "https://localhost:8080/"
    },
    "id": "sozon--3Hfsc",
    "outputId": "e6f25bd6-18d5-4173-bb56-79bb25149471"
   },
   "outputs": [],
   "source": [
    "with open(\"/Users/shasshanksethuraman/Desktop/fastq1.txt\") as f:\n",
    "  seqa=f.readlines()\n",
    "with open(\"/Users/shasshanksethuraman/Desktop/fastq2.txt\") as g:\n",
    "  seqb=g.readlines()"
   ]
  },
  {
   "cell_type": "code",
   "execution_count": 33,
   "metadata": {
    "id": "UtCxrOSOITzp"
   },
   "outputs": [],
   "source": [
    "\"\"\"\n",
    "String matching of the characters of two given FASTQ files \n",
    "@param seq1: FASTQ file 1\n",
    "@param seq2: FASTQ file 2\n",
    "\"\"\"\n",
    "\n",
    "def FASTQ_matching(seq1,seq2): \n",
    "  S1=[]\n",
    "  S2=[]\n",
    "  c=0\n",
    "  for i in seq1[1::4]:\n",
    "    S1.append(i)\n",
    "\n",
    "  for j in seq2[1::4]:\n",
    "    S2.append(j)\n",
    "\n",
    "  for i in range(len(S1)):\n",
    "    S1[i]=S1[i].strip('\\n')\n",
    "  final_S1=''\n",
    "  for i in S1:\n",
    "    final_S1+=i#obtaining final sequence 1\n",
    "\n",
    "  for i in range(len(S2)):\n",
    "    S2[i]=S2[i].strip('\\n')\n",
    "  final_S2=''\n",
    "  for i in S2:\n",
    "    final_S2+=i#obtaining final sequence 2\n",
    "\n",
    "  total_chars=len(final_S1)+len(final_S2)\n",
    "  chars=min(len(final_S1),len(final_S2))#finding number of characters for comparison \n",
    "  for i in range(chars):\n",
    "    if final_S1[i]==final_S2[i]: \n",
    "      c+=1\n",
    "\n",
    "  match_count=c*2#count of matches *2= count of matched characters \n",
    "  percentage=round((match_count/total_chars)*100,2)\n",
    "\n",
    "  return percentage"
   ]
  },
  {
   "cell_type": "code",
   "execution_count": 34,
   "metadata": {
    "colab": {
     "base_uri": "https://localhost:8080/"
    },
    "id": "Dt9YEU66RB41",
    "outputId": "0f443009-66fb-43c9-8c82-4690051222c6"
   },
   "outputs": [
    {
     "name": "stdout",
     "output_type": "stream",
     "text": [
      "Percentage of matched characters of the two FASTQ files =  23.87\n"
     ]
    }
   ],
   "source": [
    "print('Percentage of matched characters of the two FASTQ files = ',FASTQ_matching(seqa,seqb))"
   ]
  },
  {
   "cell_type": "markdown",
   "metadata": {
    "id": "0Ywr0P0WT5Iw"
   },
   "source": [
    "# FAST A STRING MATCHING\n"
   ]
  },
  {
   "cell_type": "code",
   "execution_count": 35,
   "metadata": {
    "colab": {
     "base_uri": "https://localhost:8080/"
    },
    "id": "6uhsK9niT_vt",
    "outputId": "ac27b42e-9164-4725-b30c-e36d0e6e0bb4"
   },
   "outputs": [],
   "source": [
    "with open(\"/Users/shasshanksethuraman/Desktop/fasta.txt\") as f:\n",
    "  seqm=f.readlines()\n",
    "with open(\"/Users/shasshanksethuraman/Desktop/fasta1.txt\") as g:\n",
    "  seqn=g.readlines()"
   ]
  },
  {
   "cell_type": "code",
   "execution_count": 36,
   "metadata": {
    "id": "_2v7xs_zWXdq"
   },
   "outputs": [],
   "source": [
    "\"\"\"\n",
    "String matching of the characters of two given FASTA files \n",
    "@param seq1: FASTA file 1\n",
    "@param seq2: FASTA file 2\n",
    "\"\"\"\n",
    "\n",
    "def FASTA_matching(seq1,seq2):\n",
    "  c=0\n",
    "  n1=len(seq1)\n",
    "  n2=len(seq2)\n",
    "  S1=''\n",
    "  S2=''\n",
    "\n",
    "  #finalising strings\n",
    "  for i in range(1,n1):\n",
    "    S1+=seq1[i].strip()\n",
    "  for i in range(1,n2):\n",
    "    S2+=seq2[i].strip()\n",
    "  \n",
    "  #matching\n",
    "  for i in range(min(len(S1),len(S2))):\n",
    "    if S1[i]==S2[i]:\n",
    "      c+=1\n",
    "  \n",
    "  match_count=c*2\n",
    "  total_chars=len(S1)+len(S2)\n",
    "  percentage=round((match_count/total_chars)*100,2)\n",
    "\n",
    "  return percentage"
   ]
  },
  {
   "cell_type": "code",
   "execution_count": 37,
   "metadata": {
    "colab": {
     "base_uri": "https://localhost:8080/"
    },
    "id": "n0tiThPgZBuH",
    "outputId": "aa99f1bf-fed9-4e33-f627-aaf091cc8e0d"
   },
   "outputs": [
    {
     "name": "stdout",
     "output_type": "stream",
     "text": [
      "13.45\n"
     ]
    }
   ],
   "source": [
    "print(FASTA_matching(seqm,seqn))"
   ]
  }
 ],
 "metadata": {
  "colab": {
   "collapsed_sections": [],
   "provenance": []
  },
  "kernelspec": {
   "display_name": "Python 3",
   "language": "python",
   "name": "python3"
  },
  "language_info": {
   "codemirror_mode": {
    "name": "ipython",
    "version": 3
   },
   "file_extension": ".py",
   "mimetype": "text/x-python",
   "name": "python",
   "nbconvert_exporter": "python",
   "pygments_lexer": "ipython3",
   "version": "3.8.8"
  }
 },
 "nbformat": 4,
 "nbformat_minor": 1
}
